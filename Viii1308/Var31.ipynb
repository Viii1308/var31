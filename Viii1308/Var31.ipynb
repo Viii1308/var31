{
 "cells": [
  {
   "cell_type": "markdown",
   "metadata": {},
   "source": [
    "## 31. Аппроксимация данных. Логистическая функция. \n",
    "[Weiner B. Discovering Psychology. 1977]\n",
    "\n",
    "В таблице представлены средние значения количества слов $y$, которыми владеет ребенок в заданном возрасте $x$.\n",
    "```\n",
    " 1.0        3\n",
    " 1.5       22\n",
    " 2.0      272\n",
    " 2.5      446\n",
    " 3.0      896\n",
    " 3.5     1222\n",
    " 4.0     1540\n",
    " 4.5     1870\n",
    " 5.0     2072\n",
    " 6.0     2562\n",
    "```\n",
    "Построить линейную $y = \\beta_0 + \\beta_1 x$ и две логистические модели: \n",
    "$$\n",
    "y = \\frac{\\beta_0}{1 + \\beta_1 e^{-\\beta_2 t}},\n",
    "\\qquad\n",
    "y = \\frac{\\beta_0}{1 + \\beta_1 e^{-\\beta_2 (t - t_0)}},\n",
    "$$\n",
    "аппроксимирующие данные.    \n",
    "Найти общую ошибку в каждом из этих случаев и сравнить результаты.  "
   ]
  },
  {
   "cell_type": "code",
   "execution_count": 11,
   "metadata": {},
   "outputs": [],
   "source": [
    "import numpy as np\n",
    "import matplotlib.pyplot as plt\n",
    "%matplotlib inline \n",
    "from scipy import linalg\n",
    "from scipy import optimize"
   ]
  },
  {
   "cell_type": "markdown",
   "metadata": {},
   "source": [
    "# Данные и их визуализация\n",
    "```\n",
    "$x$ - возраст.\n",
    "$y$ - среднее количество слов в зависимоти от возраста.\n",
    "```"
   ]
  },
  {
   "cell_type": "code",
   "execution_count": 258,
   "metadata": {},
   "outputs": [
    {
     "data": {
      "image/png": "[encoded data removed]",
      "text/plain": [
       "<Figure size 432x288 with 1 Axes>"
      ]
     },
     "metadata": {
      "needs_background": "light"
     },
     "output_type": "display_data"
    }
   ],
   "source": [
    "X = np.stack((np.ones(m), x)).T\n",
    "x = np.array([1.0,1.5,2.0,2.5,3.0,3.5,4.0,4.5,5.0,6.0])\n",
    "y = np.array([3,22,272,446,896,1222,1540,1870,2072,2562])\n",
    "m = len(x)\n",
    "plt.plot(x,y,'o',color = 'tab:orange')\n",
    "pass"
   ]
  },
  {
   "cell_type": "markdown",
   "metadata": {},
   "source": [
    "функции"
   ]
  },
  {
   "cell_type": "code",
   "execution_count": 259,
   "metadata": {},
   "outputs": [],
   "source": [
    "def fun_one(t, b0,b1):\n",
    "    return b0 + t * b1"
   ]
  },
  {
   "cell_type": "code",
   "execution_count": 260,
   "metadata": {},
   "outputs": [],
   "source": [
    "def fun_two(t, b0,b1,b2):\n",
    "    return b0 / (1 + b1 * np.exp(-b2 * t))"
   ]
  },
  {
   "cell_type": "code",
   "execution_count": 15,
   "metadata": {},
   "outputs": [],
   "source": [
    "def fun_three(t,t0,b0, b1,b2):\n",
    "    return b0 / (1 + b1 * np.exp(-b2 * (t - t0)))"
   ]
  },
  {
   "cell_type": "markdown",
   "metadata": {},
   "source": [
    "# Подбор значения параметров\n",
    "Первая модель является линейной, поэтому использую функцию polyfit()."
   ]
  },
  {
   "cell_type": "code",
   "execution_count": 248,
   "metadata": {},
   "outputs": [
    {
     "data": {
      "text/plain": [
       "(-763.8571428571419, 561.9264069264067)"
      ]
     },
     "execution_count": 248,
     "metadata": {},
     "output_type": "execute_result"
    }
   ],
   "source": [
    "alpha = np.polyfit(x, y, 1)\n",
    "alpha2, alpha1 = alpha\n",
    "alpha1, alpha2"
   ]
  },
  {
   "cell_type": "code",
   "execution_count": 249,
   "metadata": {},
   "outputs": [
    {
     "data": {
      "image/png": "[encoded data removed]",
      "text/plain": [
       "<Figure size 432x288 with 1 Axes>"
      ]
     },
     "metadata": {
      "needs_background": "light"
     },
     "output_type": "display_data"
    }
   ],
   "source": [
    "tt = np.linspace(np.min(x), np.max(x), 10)\n",
    "plt.plot(x,y,'o')\n",
    "plt.plot(tt, fun_one(tt,alpha1,alpha2), label='fun 1')\n",
    "plt.legend()\n",
    "plt.grid()\n",
    "pass"
   ]
  },
  {
   "cell_type": "markdown",
   "metadata": {},
   "source": [
    "## Нейлинейный метод наименьших квадратов\n",
    "Для второй и третьей модели я использую метод наименьших квадратов, который реализован в функции curve_fit модуля numpy.optimize."
   ]
  },
  {
   "cell_type": "code",
   "execution_count": 250,
   "metadata": {},
   "outputs": [
    {
     "data": {
      "text/plain": [
       "(2612.693117576391, 95.76932605651045, 1.2364085878085078)"
      ]
     },
     "execution_count": 250,
     "metadata": {},
     "output_type": "execute_result"
    }
   ],
   "source": [
    "s2 = [1,2,3]\n",
    "params1, _ = optimize.curve_fit(fun_two, x, y, s2)\n",
    "beta0, beta1, beta2 = params1\n",
    "beta0, beta1, beta2"
   ]
  },
  {
   "cell_type": "code",
   "execution_count": 251,
   "metadata": {},
   "outputs": [
    {
     "data": {
      "image/png": "[encoded data removed]",
      "text/plain": [
       "<Figure size 432x288 with 1 Axes>"
      ]
     },
     "metadata": {
      "needs_background": "light"
     },
     "output_type": "display_data"
    }
   ],
   "source": [
    "tt = np.linspace(np.min(x), np.max(x), 10)\n",
    "plt.plot(x,y,'o')\n",
    "plt.plot(tt, fun_two(tt, beta0, beta1, beta2), label='fun 2')\n",
    "plt.legend()\n",
    "plt.grid()\n",
    "pass"
   ]
  },
  {
   "cell_type": "code",
   "execution_count": 252,
   "metadata": {},
   "outputs": [
    {
     "data": {
      "text/plain": [
       "(1.2856394374611508, 2612.692705797321, 19.538236709446767, 1.2364130098739303)"
      ]
     },
     "execution_count": 252,
     "metadata": {},
     "output_type": "execute_result"
    }
   ],
   "source": [
    "s3 = [1, 2, 1000, 0.000001]\n",
    "params2, _ = optimize.curve_fit(fun_three, x, y, s3, maxfev = 1000)\n",
    "y0, gama0, gama1, gama2 = params2\n",
    "y0, gama0, gama1, gama2"
   ]
  },
  {
   "cell_type": "code",
   "execution_count": 253,
   "metadata": {},
   "outputs": [
    {
     "data": {
      "image/png": "[encoded data removed]",
      "text/plain": [
       "<Figure size 432x288 with 1 Axes>"
      ]
     },
     "metadata": {
      "needs_background": "light"
     },
     "output_type": "display_data"
    }
   ],
   "source": [
    "tt = np.linspace(np.min(x), np.max(x), 10)\n",
    "plt.plot(x,y,'o')\n",
    "plt.plot(tt, fun_three(tt,y0, gama0,  gama1, gama2), label='fun 3')\n",
    "plt.legend()\n",
    "plt.grid()\n",
    "pass"
   ]
  },
  {
   "cell_type": "markdown",
   "metadata": {},
   "source": [
    "все три модели нарисуем на одной координатой плоскости для наглядности и сравнения "
   ]
  },
  {
   "cell_type": "code",
   "execution_count": 254,
   "metadata": {},
   "outputs": [
    {
     "data": {
      "image/png": "[encoded data removed]",
      "text/plain": [
       "<Figure size 432x288 with 1 Axes>"
      ]
     },
     "metadata": {
      "needs_background": "light"
     },
     "output_type": "display_data"
    }
   ],
   "source": [
    "tt = np.linspace(np.min(x), np.max(x), 10)\n",
    "plt.plot(x,y,'o')\n",
    "plt.plot(tt, fun_one(tt,alpha1,alpha2), label='fun 1')\n",
    "plt.plot(tt, fun_two(tt, beta0, beta1, beta2), label='fun 2')\n",
    "plt.plot(tt, fun_three(tt,y0, gama0,  gama1, gama2), label='fun 3')\n",
    "plt.legend()\n",
    "plt.grid()\n",
    "pass"
   ]
  },
  {
   "cell_type": "markdown",
   "metadata": {},
   "source": [
    "# Общая ошибка в каждом из этих случаев"
   ]
  },
  {
   "cell_type": "code",
   "execution_count": 261,
   "metadata": {},
   "outputs": [
    {
     "data": {
      "text/plain": [
       "10903.27748917749"
      ]
     },
     "execution_count": 261,
     "metadata": {},
     "output_type": "execute_result"
    }
   ],
   "source": [
    "error1 = np.array (y - fun_one(x, alpha1, alpha2))**2\n",
    "np.sum(error1)/m"
   ]
  },
  {
   "cell_type": "code",
   "execution_count": 262,
   "metadata": {},
   "outputs": [
    {
     "data": {
      "text/plain": [
       "6971.830188795667"
      ]
     },
     "execution_count": 262,
     "metadata": {},
     "output_type": "execute_result"
    }
   ],
   "source": [
    "error2 = np.array (y - fun_two(x, beta0,beta1,beta2))**2\n",
    "np.sum(error2)/m"
   ]
  },
  {
   "cell_type": "code",
   "execution_count": 263,
   "metadata": {},
   "outputs": [
    {
     "data": {
      "text/plain": [
       "6971.830194447544"
      ]
     },
     "execution_count": 263,
     "metadata": {},
     "output_type": "execute_result"
    }
   ],
   "source": [
    "error2 = np.array (y - fun_three(x, y0, gama0,gama1,gama2))**2\n",
    "np.sum(error2)/m"
   ]
  },
  {
   "cell_type": "markdown",
   "metadata": {},
   "source": [
    "# Вывод\n",
    "1) Линейная модель хуже  аппроксимирует  данные, чем логистические. Это так же видно на графиках функций, особенно на меньшх значениях x и y.\n",
    "2) Обе логистические модели одинаково  аппроксимируют  данные, отличие незначительное."
   ]
  }
 ],
 "metadata": {
  "kernelspec": {
   "display_name": "Python 3",
   "language": "python",
   "name": "python3"
  },
  "language_info": {
   "codemirror_mode": {
    "name": "ipython",
    "version": 3
   },
   "file_extension": ".py",
   "mimetype": "text/x-python",
   "name": "python",
   "nbconvert_exporter": "python",
   "pygments_lexer": "ipython3",
   "version": "3.7.4"
  }
 },
 "nbformat": 4,
 "nbformat_minor": 2
}
